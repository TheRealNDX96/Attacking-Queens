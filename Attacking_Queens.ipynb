{
  "nbformat": 4,
  "nbformat_minor": 0,
  "metadata": {
    "colab": {
      "name": "Attacking Queens.ipynb",
      "provenance": [],
      "authorship_tag": "ABX9TyNeVJDNkJc5Zro+4Q3Uq0yA",
      "include_colab_link": true
    },
    "kernelspec": {
      "name": "python3",
      "display_name": "Python 3"
    },
    "language_info": {
      "name": "python"
    }
  },
  "cells": [
    {
      "cell_type": "markdown",
      "metadata": {
        "id": "view-in-github",
        "colab_type": "text"
      },
      "source": [
        "<a href=\"https://colab.research.google.com/github/TheRealNDX96/Attacking-Queens/blob/main/Attacking_Queens.ipynb\" target=\"_parent\"><img src=\"https://colab.research.google.com/assets/colab-badge.svg\" alt=\"Open In Colab\"/></a>"
      ]
    },
    {
      "cell_type": "code",
      "metadata": {
        "id": "ACfGE0Hhs9Sv"
      },
      "source": [
        "# The N-queens puzzle is the problem of placing n queens on a n-by-n so that no two queens\n",
        "# attack each other. Two queens attack if they lie on the same row, same column or same diagonal.\n",
        "# Write a program that determines if a given n-queens puzzle (4 <= n <= 10) is attacking.\n",
        "# The chessboard is represented as follows:\n",
        "# 0 1 0 0\n",
        "# 0 0 0 1\n",
        "# 1 0 0 0\n",
        "# 0 1 0 0\n",
        "# where '1' represents the queen and '0' represents empty. Assume that there are exactly n queens on the chessboard."
      ],
      "execution_count": null,
      "outputs": []
    },
    {
      "cell_type": "code",
      "metadata": {
        "id": "9Q-7hJS5tH7e"
      },
      "source": [
        "def attackingqueens():\n",
        "  output = []\n",
        "  num = []\n",
        "  n = int(input(\"Enter n: \"))\n",
        "  if n < 4 or n > 10:\n",
        "    while n < 4 or n > 10:\n",
        "      print(\"Please enter an integer between 4 and 10\")\n",
        "      n = int(input(\"Enter n: \"))\n",
        "  print(\"Enter the matrix pattern of n-by-n:\")\n",
        "  \n",
        "  for i in range(n):\n",
        "    user_inp = list(input().split())\n",
        "    output.append(user_inp)\n",
        "\n",
        "  if CheckRows(n,output) or CheckColumns(n,output) or CheckDiagonals(n,output):\n",
        "    print(\"Attacking\")\n",
        "  else:\n",
        "    print(\"Not Attacking\")\n",
        "\n",
        "def CheckRows(n,output):\n",
        "  for i in range(n):\n",
        "    j = n-1\n",
        "    count = 0\n",
        "    while j != -1:\n",
        "      if output[i][j] == '1':\n",
        "        count += 1\n",
        "        if count == 2:\n",
        "          return True\n",
        "      j -= 1\n",
        "  \n",
        "  return False\n",
        "\n",
        "def CheckColumns(n,output):  \n",
        "  for j in range(n):\n",
        "    i = n-1\n",
        "    count = 0\n",
        "    while i != -1:\n",
        "      if output[i][j] == '1':\n",
        "        count += 1\n",
        "        if count == 2:\n",
        "          return True\n",
        "      i -= 1\n",
        "  \n",
        "  return False\n",
        "\n",
        "def CheckDiagonals(n,output):\n",
        "  count = 0\n",
        "  for i in range(n):\n",
        "    if output[i][i] == '1':\n",
        "      count += 1\n",
        "      if count == 2:\n",
        "        return True\n",
        "\n",
        "  count = 0\n",
        "  for i in range(n):\n",
        "    if output[i][n-1] == \"1\":\n",
        "      count += 1\n",
        "      if count == 2:\n",
        "        return True\n",
        "    n -= 1\n",
        "\n",
        "  return False\n",
        "\n",
        "attackingqueens()"
      ],
      "execution_count": 4,
      "outputs": []
    },
    {
      "cell_type": "code",
      "metadata": {
        "id": "8yshpIgftNPI"
      },
      "source": [
        ""
      ],
      "execution_count": null,
      "outputs": []
    }
  ]
}